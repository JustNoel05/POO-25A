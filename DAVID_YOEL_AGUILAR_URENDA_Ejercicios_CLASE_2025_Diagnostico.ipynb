{
  "nbformat": 4,
  "nbformat_minor": 0,
  "metadata": {
    "colab": {
      "provenance": [],
      "include_colab_link": true
    },
    "kernelspec": {
      "name": "python3",
      "display_name": "Python 3"
    },
    "language_info": {
      "name": "python"
    }
  },
  "cells": [
    {
      "cell_type": "markdown",
      "metadata": {
        "id": "view-in-github",
        "colab_type": "text"
      },
      "source": [
        "<a href=\"https://colab.research.google.com/github/JustNoel05/POO-25A/blob/main/DAVID_YOEL_AGUILAR_URENDA_Ejercicios_CLASE_2025_Diagnostico.ipynb\" target=\"_parent\"><img src=\"https://colab.research.google.com/assets/colab-badge.svg\" alt=\"Open In Colab\"/></a>"
      ]
    },
    {
      "cell_type": "markdown",
      "source": [
        "\n",
        "\n",
        "---\n",
        "\n",
        "## **Ejercicios de Python 3**  \n",
        "\n",
        "\n",
        "\n",
        "---\n",
        "\n",
        "### **1. Suma de Pares en una Lista **  \n",
        "#### **Problema**  \n",
        "Dada una lista de números enteros, encuentra todas las combinaciones de dos números cuya suma sea un valor objetivo.  \n",
        "\n",
        "#### **Ejemplo**  \n",
        "```python\n",
        "print(encontrar_pares([1, 2, 3, 4, 5, 6], 7))  \n",
        "# [(1, 6), (2, 5), (3, 4)]\n",
        "```\n",
        "\n",
        "\n",
        "\n",
        "---\n",
        "\n",
        "### **2. Conteo de Caracteres Frecuentes **  \n",
        "#### **Problema**  \n",
        "Dada una cadena de texto, encuentra el carácter que más veces se repite e indica cuántas veces aparece.  \n",
        "\n",
        "#### **Ejemplo**  \n",
        "```python\n",
        "print(caracter_mas_frecuente(\"banana\"))  \n",
        "# ('a', 3)\n",
        "```\n",
        "\n",
        "#### **Aspectos a Evaluar**  \n",
        "  \n",
        "\n",
        "---\n",
        "\n",
        "### **3. Verificación de Sudoku Válido **  \n",
        "#### **Problema**  \n",
        "Dada una cuadrícula de Sudoku de 9x9, verifica si es válida (cumple con las reglas de filas, columnas y subcuadrículas de 3x3).  \n",
        "\n",
        "#### **Ejemplo**  \n",
        "```python\n",
        "print(validar_sudoku(tablero))  # True o False\n",
        "```\n",
        "\n",
        "\n",
        "\n",
        "---\n",
        "\n",
        "### **4. Números Primos en un Rango **  \n",
        "#### **Problema**  \n",
        "Escribe una función que reciba dos números `a` y `b` y devuelva una lista de todos los números primos en ese rango.  \n",
        "\n",
        "#### **Ejemplo**  \n",
        "```python\n",
        "print(numeros_primos(10, 30))  \n",
        "# [11, 13, 17, 19, 23, 29]\n",
        "```\n",
        "\n",
        "\n",
        "\n",
        "---\n",
        "\n",
        "### **5. Longitud de la Secuencia de Collatz **  \n",
        "#### **Problema**  \n",
        "La secuencia de Collatz se define así:  \n",
        "1. Si el número es par, se divide por 2.  \n",
        "2. Si es impar, se multiplica por 3 y se suma 1.  \n",
        "3. Se repite el proceso hasta llegar a 1.  \n",
        "\n",
        "Escribe una función que determine cuántos pasos toma un número `n` para llegar a 1.  \n",
        "\n",
        "#### **Ejemplo**  \n",
        "```python\n",
        "print(longitud_collatz(12))  \n",
        "# 9\n",
        "```\n",
        "\n",
        "\n",
        "\n",
        "\n",
        "---\n"
      ],
      "metadata": {
        "id": "3mseMKx2azuk"
      }
    },
    {
      "cell_type": "code",
      "execution_count": null,
      "metadata": {
        "id": "TarBIb18ayK0",
        "colab": {
          "base_uri": "https://localhost:8080/"
        },
        "outputId": "00e805d3-90ba-4208-8555-a5e8c1b069b6"
      },
      "outputs": [
        {
          "output_type": "stream",
          "name": "stdout",
          "text": [
            "[(4, 3), (5, 2), (6, 1)]\n"
          ]
        }
      ],
      "source": [
        "#Ejercicio 1 Suma de Pares en una Lista\n",
        "def encontrar_pares(lista, objetivo):\n",
        "    pares = []\n",
        "    visitados= set()\n",
        "    for num in lista:\n",
        "        complemento = objetivo - num\n",
        "        if complemento in visitados:\n",
        "            pares.append((num, complemento))\n",
        "        visitados.add(num)\n",
        "    return pares\n",
        "\n",
        "numeros=[1,2,3,4,5,6]\n",
        "objetivo=7\n",
        "resultado = encontrar_pares(numeros,objetivo)\n",
        "print(resultado)"
      ]
    },
    {
      "cell_type": "code",
      "source": [
        "#Ejercicio 2 Conteo de Caracteres Frecuentes\n",
        "Texto=\"Banana\"\n",
        "x=Texto.count(\"a\")\n",
        "print(x)"
      ],
      "metadata": {
        "colab": {
          "base_uri": "https://localhost:8080/"
        },
        "id": "BXmRIj_flGFF",
        "outputId": "06fa98a6-68ab-41bb-c901-fe73ad59a718"
      },
      "execution_count": null,
      "outputs": [
        {
          "output_type": "stream",
          "name": "stdout",
          "text": [
            "3\n"
          ]
        }
      ]
    },
    {
      "cell_type": "code",
      "source": [
        "#Ejercicio 3 Verificar que una lista tenga los numeros del 1,9\n",
        "def verificar_lista(lista):\n",
        "  return set(lista) == set(range(1, 10))\n",
        "\n",
        "mi_lista = [1, 2, 3, 4, 5, 6, 7, 8, 9]\n",
        "if verificar_lista(mi_lista):\n",
        "  print(\"La lista contiene todos los números del 1 al 9\")\n",
        "else:\n",
        "  print(\"La lista no contiene todos los números del 1 al 9\")"
      ],
      "metadata": {
        "colab": {
          "base_uri": "https://localhost:8080/"
        },
        "id": "3uw-C6BQlLhe",
        "outputId": "174c8edd-6e5a-4462-9b12-3f6fa967d10f"
      },
      "execution_count": null,
      "outputs": [
        {
          "output_type": "stream",
          "name": "stdout",
          "text": [
            "La lista contiene todos los números del 1 al 9\n"
          ]
        }
      ]
    },
    {
      "source": [
        "#Ejercicio 4 Números Primos en un Rango\n",
        "a = int(input(\"Ingrese el primer numero: \"))\n",
        "b = int(input(\"Ingrese el segundo numero: \"))\n",
        "\n",
        "for num in range(a, b + 1):\n",
        "    if num > 1:\n",
        "        for i in range(2, num):\n",
        "            if (num % i) == 0:\n",
        "                break\n",
        "        else:\n",
        "            print(num)"
      ],
      "cell_type": "code",
      "metadata": {
        "colab": {
          "base_uri": "https://localhost:8080/"
        },
        "id": "Rjae7gVlqs2y",
        "outputId": "31391e89-0903-4051-b24a-3c610f64ca24"
      },
      "execution_count": null,
      "outputs": [
        {
          "output_type": "stream",
          "name": "stdout",
          "text": [
            "Ingrese el primer numero: 11\n",
            "Ingrese el segundo numero: 30\n",
            "11\n",
            "13\n",
            "17\n",
            "19\n",
            "23\n",
            "29\n"
          ]
        }
      ]
    },
    {
      "cell_type": "code",
      "source": [
        "def longitud_collatz(numero):\n",
        "  pasos = 0\n",
        "  if numero > 0:\n",
        "      while numero != 1:\n",
        "          pasos += 1\n",
        "          print(\"Hicimos el paso numero #\", pasos)\n",
        "          if numero % 2:\n",
        "              numero = numero * 3 + 1\n",
        "          else:\n",
        "              numero //= 2\n",
        "          print(numero)\n",
        "      print(\"La longitud de la secuencia de Collatz es\", pasos)\n",
        "  else:\n",
        "      print(\"El número que tecleo no es válido\")\n",
        "\n",
        "numero = int(input(\"Teclee un número entero positivo : \"))\n",
        "longitud_collatz(numero)\n"
      ],
      "metadata": {
        "colab": {
          "base_uri": "https://localhost:8080/"
        },
        "id": "X-kF6uNllMW1",
        "outputId": "9be46a4a-2647-4fa1-e930-9a40f7496b86"
      },
      "execution_count": null,
      "outputs": [
        {
          "output_type": "stream",
          "name": "stdout",
          "text": [
            "Teclee un número entero positivo : 12\n",
            "Hicimos el paso numero # 1\n",
            "6\n",
            "Hicimos el paso numero # 2\n",
            "3\n",
            "Hicimos el paso numero # 3\n",
            "10\n",
            "Hicimos el paso numero # 4\n",
            "5\n",
            "Hicimos el paso numero # 5\n",
            "16\n",
            "Hicimos el paso numero # 6\n",
            "8\n",
            "Hicimos el paso numero # 7\n",
            "4\n",
            "Hicimos el paso numero # 8\n",
            "2\n",
            "Hicimos el paso numero # 9\n",
            "1\n",
            "La longitud de la secuencia de Collatz es 9\n"
          ]
        }
      ]
    }
  ]
}