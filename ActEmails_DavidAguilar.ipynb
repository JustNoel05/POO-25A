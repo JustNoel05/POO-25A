{
  "nbformat": 4,
  "nbformat_minor": 0,
  "metadata": {
    "colab": {
      "provenance": [],
      "authorship_tag": "ABX9TyNcBVpTjQsFPFaCHq/C4QC9",
      "include_colab_link": true
    },
    "kernelspec": {
      "name": "python3",
      "display_name": "Python 3"
    },
    "language_info": {
      "name": "python"
    }
  },
  "cells": [
    {
      "cell_type": "markdown",
      "metadata": {
        "id": "view-in-github",
        "colab_type": "text"
      },
      "source": [
        "<a href=\"https://colab.research.google.com/github/JustNoel05/POO-25A/blob/main/ActEmails_DavidAguilar.ipynb\" target=\"_parent\"><img src=\"https://colab.research.google.com/assets/colab-badge.svg\" alt=\"Open In Colab\"/></a>"
      ]
    },
    {
      "cell_type": "code",
      "execution_count": 2,
      "metadata": {
        "id": "yhnQu2ZETT1O"
      },
      "outputs": [],
      "source": [
        "import smtplib, ssl\n",
        "\n",
        "port = 587  # For starttls\n",
        "smtp_server = \"smtp.gmail.com\"\n",
        "sender_email = \"fvpootisthegoat@gmail.com\" # origen\n",
        "receiver_email = \"arturo.valdivia@academicos.udg.mx\" #destinatario\n",
        "password = \"oadg lhku dmkq aukq\"\n",
        "message = \"\"\"\\\n",
        "Subject: Correo increible de clase\n",
        "\n",
        "Holi profe, saludos a la banda momera, David Yoel Aguilar Urenda\"\"\" #Mensaje de felicitacion\n",
        "\n",
        "context = ssl.create_default_context()\n",
        "with smtplib.SMTP(smtp_server, port) as server:\n",
        "    server.ehlo()  # Can be omitted\n",
        "    server.starttls(context=context)\n",
        "    server.ehlo()  # Can be omitted\n",
        "    server.login(sender_email, password)\n",
        "    server.sendmail(sender_email, receiver_email, message)"
      ]
    }
  ]
}