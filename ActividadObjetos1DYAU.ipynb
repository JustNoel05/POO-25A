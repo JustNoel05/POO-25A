{
  "nbformat": 4,
  "nbformat_minor": 0,
  "metadata": {
    "colab": {
      "provenance": [],
      "authorship_tag": "ABX9TyN7bVdb1FUhcbuV94NYlLx7",
      "include_colab_link": true
    },
    "kernelspec": {
      "name": "python3",
      "display_name": "Python 3"
    },
    "language_info": {
      "name": "python"
    }
  },
  "cells": [
    {
      "cell_type": "markdown",
      "metadata": {
        "id": "view-in-github",
        "colab_type": "text"
      },
      "source": [
        "<a href=\"https://colab.research.google.com/github/JustNoel05/POO-25A/blob/main/ActividadObjetos1DYAU.ipynb\" target=\"_parent\"><img src=\"https://colab.research.google.com/assets/colab-badge.svg\" alt=\"Open In Colab\"/></a>"
      ]
    },
    {
      "cell_type": "markdown",
      "source": [
        "David Yoel Aguilar Urenda\n"
      ],
      "metadata": {
        "id": "_Hf8_2lEtJU2"
      }
    },
    {
      "cell_type": "code",
      "source": [
        "from datetime import date\n",
        "\n",
        "my_date = date(2018, 9, 29)\n",
        "\n",
        "Vehiculo = 'Carro'\n",
        "class Auto:\n",
        "    def __init__(self, marca, modelo, año):\n",
        "        self.marca = marca\n",
        "        self.modelo = modelo\n",
        "        self.año = año\n",
        "\n",
        "    def get_info(self):\n",
        "        return f'{self.marca} {self.modelo}, Año: {self.año}'\n",
        "\n",
        "    def ultima_verificacion(self):\n",
        "        return f'Última verificación: {my_date}'\n",
        "\n",
        "Fordfocus = Auto('Ford', 'Focus', 2018)\n",
        "\n",
        "print(Fordfocus.get_info())\n",
        "print(Fordfocus.ultima_verificacion())"
      ],
      "metadata": {
        "colab": {
          "base_uri": "https://localhost:8080/"
        },
        "id": "ptBVJHU2tJbf",
        "outputId": "92c4e3a3-e0d5-4b47-dddf-1bec69069adb"
      },
      "execution_count": null,
      "outputs": [
        {
          "output_type": "stream",
          "name": "stdout",
          "text": [
            "Ford Focus, Año: 2018\n",
            "Última verificación: 2018-09-29\n"
          ]
        }
      ]
    }
  ]
}