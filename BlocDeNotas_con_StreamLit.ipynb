{
  "cells": [
    {
      "cell_type": "markdown",
      "metadata": {
        "id": "view-in-github",
        "colab_type": "text"
      },
      "source": [
        "<a href=\"https://colab.research.google.com/github/JustNoel05/mmmmmmmmm/blob/main/BlocDeNotas_con_StreamLit.ipynb\" target=\"_parent\"><img src=\"https://colab.research.google.com/assets/colab-badge.svg\" alt=\"Open In Colab\"/></a>"
      ]
    },
    {
      "cell_type": "code",
      "execution_count": null,
      "metadata": {
        "colab": {
          "base_uri": "https://localhost:8080/"
        },
        "id": "S1kNZe31k0_z",
        "outputId": "9bbe6672-df64-47c3-cb47-d0bfc8bbc49c"
      },
      "outputs": [
        {
          "name": "stdout",
          "output_type": "stream",
          "text": [
            "\u001b[2K     \u001b[90m━━━━━━━━━━━━━━━━━━━━━━━━━━━━━━━━━━━━━━━━\u001b[0m \u001b[32m44.3/44.3 kB\u001b[0m \u001b[31m722.6 kB/s\u001b[0m eta \u001b[36m0:00:00\u001b[0m\n",
            "\u001b[2K   \u001b[90m━━━━━━━━━━━━━━━━━━━━━━━━━━━━━━━━━━━━━━━━\u001b[0m \u001b[32m9.8/9.8 MB\u001b[0m \u001b[31m41.7 MB/s\u001b[0m eta \u001b[36m0:00:00\u001b[0m\n",
            "\u001b[2K   \u001b[90m━━━━━━━━━━━━━━━━━━━━━━━━━━━━━━━━━━━━━━━━\u001b[0m \u001b[32m6.9/6.9 MB\u001b[0m \u001b[31m53.5 MB/s\u001b[0m eta \u001b[36m0:00:00\u001b[0m\n",
            "\u001b[2K   \u001b[90m━━━━━━━━━━━━━━━━━━━━━━━━━━━━━━━━━━━━━━━━\u001b[0m \u001b[32m79.1/79.1 kB\u001b[0m \u001b[31m5.5 MB/s\u001b[0m eta \u001b[36m0:00:00\u001b[0m\n",
            "\u001b[?25h"
          ]
        }
      ],
      "source": [
        "!pip install -q streamlit"
      ]
    },
    {
      "cell_type": "code",
      "execution_count": null,
      "metadata": {
        "colab": {
          "base_uri": "https://localhost:8080/"
        },
        "id": "Dx_YONQhk_e6",
        "outputId": "ddf2d8dc-d0f9-4f2a-fc9d-f8dd2384e62a"
      },
      "outputs": [
        {
          "name": "stdout",
          "output_type": "stream",
          "text": [
            "Overwriting app.py\n"
          ]
        }
      ],
      "source": [
        "%%writefile app.py\n",
        "import streamlit as st\n",
        "from abc import ABC, abstractmethod\n",
        "from PIL import Image\n",
        "from io import BytesIO\n",
        "\n",
        "class Nota(ABC):\n",
        "    def __init__(self, titulo, contenido):\n",
        "        self.titulo = titulo\n",
        "        self.contenido = contenido\n",
        "\n",
        "    @abstractmethod\n",
        "    def mostrar(self):\n",
        "        pass\n",
        "\n",
        "    def modificar_contenido(self, nuevo_contenido):\n",
        "        self.contenido = nuevo_contenido\n",
        "\n",
        "class NotaTexto(Nota):\n",
        "    def __init__(self, titulo, contenido, formato='normal'):\n",
        "        super().__init__(titulo, contenido)\n",
        "        self.formato = formato\n",
        "\n",
        "    def mostrar(self):\n",
        "        st.subheader(self.titulo)\n",
        "        if self.formato == 'markdown':\n",
        "            st.markdown(self.contenido)\n",
        "        else:\n",
        "            st.text(self.contenido)\n",
        "\n",
        "class NotaLista(Nota):\n",
        "    def __init__(self, titulo, elementos):\n",
        "        super().__init__(titulo, elementos)\n",
        "        self.elementos = elementos if isinstance(elementos, list) else [elementos]\n",
        "\n",
        "    def mostrar(self):\n",
        "        st.subheader(self.titulo)\n",
        "        for elemento in self.contenidos:\n",
        "            st.write(f\"- {elemento}\")\n",
        "\n",
        "class NotaImagen(Nota):\n",
        "    def __init__(self, titulo, imagen):\n",
        "        super().__init__(titulo, imagen)\n",
        "        self.imagen = imagen\n",
        "\n",
        "    def mostrar(self):\n",
        "        st.subheader(self.titulo)\n",
        "        st.image(self.imagen, caption=self.titulo)\n",
        "\n",
        "class BlocDeNotas:\n",
        "    def __init__(self):\n",
        "        self.notas = []\n",
        "\n",
        "    def agregar_nota(self, nota):\n",
        "        self.notas.append(nota)\n",
        "\n",
        "    def mostrar_notas(self):\n",
        "        for nota in self.notas:\n",
        "            nota.mostrar()\n",
        "            st.write(\"---\")\n",
        "\n",
        "    def buscar_por_titulo(self, titulo):\n",
        "        return [nota for nota in self.notas if titulo.lower() in nota.titulo.lower()]\n",
        "\n",
        "    def eliminar_nota(self, titulo):\n",
        "        self.notas = [nota for nota in self.notas if nota.titulo != titulo]\n",
        "\n",
        "def main():\n",
        "    st.set_page_config(page_title=\"Bloc de Notas\", layout=\"wide\")\n",
        "\n",
        "    if 'bloc' not in st.session_state:\n",
        "        st.session_state.bloc = BlocDeNotas()\n",
        "\n",
        "    st.title(\" 📝 Bloc de Notas Interactivo de Paris 📝 \")\n",
        "\n",
        "    with st.sidebar:\n",
        "        st.header(\"Acciones\")\n",
        "        action = st.radio(\n",
        "            \"Selecciona una acción\",\n",
        "            [\"Crear Nota\", \"Mostrar Notas\", \"Buscar Nota\", \"Eliminar Nota\"]\n",
        "        )\n",
        "\n",
        "    if action == \"Crear Nota\":\n",
        "        st.header(\"Crear Nota\")\n",
        "        tipo_nota = st.selectbox(\"Selecciona el tipo de nota\", [\"Texto\", \"Lista\", \"Imagen\"])\n",
        "        titulo = st.text_input(\"Título de la nota\")\n",
        "\n",
        "        if tipo_nota == \"Texto\":\n",
        "            contenido = st.text_area(\"Contenido de la nota\")\n",
        "            formato = st.radio(\"Formato\", [\"Normal\", \"Markdown\"])\n",
        "            if st.button(\"Guardar nota\") and titulo and contenido:\n",
        "                st.session_state.bloc.agregar_nota(NotaTexto(titulo, contenido, formato))\n",
        "                st.success(\"Nota creada con éxito\")\n",
        "\n",
        "        elif tipo_nota == \"Lista\":\n",
        "            items = st.text_area(\"Elementos (uno por línea)\", height=150)\n",
        "            if st.button(\"Guardar nota\") and titulo and items:\n",
        "                lista_items = [item.strip() for item in items.split(\"\\n\") if item.strip()]\n",
        "                st.session_state.bloc.agregar_nota(NotaLista(titulo, lista_items))\n",
        "                st.success(\"Nota creada con éxito\")\n",
        "\n",
        "        elif tipo_nota == \"Imagen\":\n",
        "            imagen = st.file_uploader(\"Selecciona una imagen\", type=[\"jpg\", \"jpeg\", \"png\"])\n",
        "            if st.button(\"Guardar nota\") and titulo and imagen:\n",
        "                st.session_state.bloc.agregar_nota(NotaImagen(titulo, imagen))\n",
        "                st.success(\"Nota creada con éxito\")\n",
        "\n",
        "    elif action == \"Mostrar Notas\":\n",
        "        st.header(\"Todas las Notas\")\n",
        "        if st.session_state.bloc.notas:\n",
        "            st.session_state.bloc.mostrar_notas()\n",
        "        else:\n",
        "            st.info(\"No hay notas en el bloc\")\n",
        "\n",
        "    elif action == \"Buscar Nota\":\n",
        "        st.header(\"Buscar Nota\")\n",
        "        busqueda = st.text_input(\"Ingrese el título de la nota a buscar\")\n",
        "        if busqueda:\n",
        "            resultados = st.session_state.bloc.buscar_por_titulo(busqueda)\n",
        "            if resultados:\n",
        "                st.subheader(\"Notas encontradas:\")\n",
        "                for nota in resultados:\n",
        "                    nota.mostrar()\n",
        "                    st.write(\"---\")\n",
        "            else:\n",
        "                st.warning(\"No se encontraron notas con ese título\")\n",
        "\n",
        "    elif action == \"Eliminar Nota\":\n",
        "        st.header(\"Eliminar Nota\")\n",
        "        if st.session_state.bloc.notas:\n",
        "            titulo_eliminar = st.selectbox(\"Selecciona la nota a eliminar\", [nota.titulo for nota in st.session_state.bloc.notas])\n",
        "            if st.button(\"Eliminar nota\"):\n",
        "                st.session_state.bloc.eliminar_nota(titulo_eliminar)\n",
        "                st.success(\"Nota eliminada con éxito!\")\n",
        "        else:\n",
        "            st.info(\"No hay notas en el bloc\")\n",
        "\n",
        "if __name__ == \"__main__\":\n",
        "    main()\n",
        "\n"
      ]
    },
    {
      "cell_type": "code",
      "execution_count": null,
      "metadata": {
        "colab": {
          "base_uri": "https://localhost:8080/"
        },
        "id": "uuuYiHOJq6Z4",
        "outputId": "bfd7a36e-b004-4b6b-b595-3387dfc783f2"
      },
      "outputs": [
        {
          "name": "stdout",
          "output_type": "stream",
          "text": [
            "\u001b[1G\u001b[0K⠙\u001b[1G\u001b[0K⠹\u001b[1G\u001b[0K⠸\u001b[1G\u001b[0K⠼\u001b[1G\u001b[0K⠴\u001b[1G\u001b[0K\n",
            "up to date, audited 23 packages in 834ms\n",
            "\u001b[1G\u001b[0K⠴\u001b[1G\u001b[0K\n",
            "\u001b[1G\u001b[0K⠴\u001b[1G\u001b[0K3 packages are looking for funding\n",
            "\u001b[1G\u001b[0K⠴\u001b[1G\u001b[0K  run `npm fund` for details\n",
            "\u001b[1G\u001b[0K⠴\u001b[1G\u001b[0K\n",
            "2 \u001b[31m\u001b[1mhigh\u001b[22m\u001b[39m severity vulnerabilities\n",
            "\n",
            "To address all issues (including breaking changes), run:\n",
            "  npm audit fix --force\n",
            "\n",
            "Run `npm audit` for details.\n",
            "\u001b[1G\u001b[0K⠴\u001b[1G\u001b[0K"
          ]
        }
      ],
      "source": [
        "!npm install localtunnel"
      ]
    },
    {
      "cell_type": "code",
      "execution_count": null,
      "metadata": {
        "colab": {
          "background_save": true,
          "base_uri": "https://localhost:8080/"
        },
        "id": "kBc1pTz8q68U",
        "outputId": "d10b8bb2-4f1a-4e9d-e740-70c426029f20"
      },
      "outputs": [
        {
          "name": "stdout",
          "output_type": "stream",
          "text": [
            "\u001b[1G\u001b[0K⠙\u001b[1G\u001b[0Kyour url is: https://eager-phones-float.loca.lt\n"
          ]
        }
      ],
      "source": [
        "!streamlit run app.py &>/content/logs.txt & npx localtunnel --port 8501"
      ]
    }
  ],
  "metadata": {
    "colab": {
      "provenance": [],
      "authorship_tag": "ABX9TyOHzbOhAhH0KObnCVDtFnUe",
      "include_colab_link": true
    },
    "kernelspec": {
      "display_name": "Python 3",
      "name": "python3"
    },
    "language_info": {
      "name": "python"
    }
  },
  "nbformat": 4,
  "nbformat_minor": 0
}