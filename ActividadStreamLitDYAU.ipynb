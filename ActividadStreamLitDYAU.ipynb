{
  "cells": [
    {
      "cell_type": "markdown",
      "metadata": {
        "id": "view-in-github",
        "colab_type": "text"
      },
      "source": [
        "<a href=\"https://colab.research.google.com/github/JustNoel05/POO-25A/blob/main/ActividadStreamLitDYAU.ipynb\" target=\"_parent\"><img src=\"https://colab.research.google.com/assets/colab-badge.svg\" alt=\"Open In Colab\"/></a>"
      ]
    },
    {
      "cell_type": "markdown",
      "metadata": {
        "id": "4jl_3E-s3RKY"
      },
      "source": [
        "Hacer una To-do list usando streamlit\n",
        "Usando listas y clases\n",
        "-Crear una clase pendiente, que tenga nombre del pendiente, fecha(hora)\n",
        "-Borrar un pendiente\n",
        "-Crear un pendiente y clasificarlo si es importante o no\n",
        "Nota: Si es importante debe desplegarse primero\n",
        "-borrar"
      ]
    },
    {
      "cell_type": "code",
      "execution_count": null,
      "metadata": {
        "id": "86yrkqL53LRZ"
      },
      "outputs": [],
      "source": [
        "!pip install -q streamlit"
      ]
    },
    {
      "cell_type": "code",
      "execution_count": null,
      "metadata": {
        "colab": {
          "base_uri": "https://localhost:8080/"
        },
        "id": "wsWaCbWP5s7g",
        "outputId": "f654346a-b712-48b7-d8ba-fa03eeea631f"
      },
      "outputs": [
        {
          "name": "stdout",
          "output_type": "stream",
          "text": [
            "Overwriting app.py\n"
          ]
        }
      ],
      "source": [
        "%%writefile app.py\n",
        "import streamlit as st\n",
        "\n",
        "st.title(\"To-do List del Profe Arturo\")\n",
        "\n",
        "class pendiente:\n",
        "    def __init__(self, nombre, fecha, importante):\n",
        "        self.nombre = nombre\n",
        "        self.fecha = fecha\n",
        "        self.importante = importante\n",
        "\n",
        "pendientes = []\n",
        "\n",
        "def agregar_pendiente(nombre, fecha, importante):\n",
        "    pendientes.append(pendiente(nombre, fecha, importante))\n",
        "\n",
        "def borrar_pendiente(nombre):\n",
        "    for pendiente in pendientes:\n",
        "        if pendiente.nombre == nombre:\n",
        "            pendientes.remove(pendiente)\n",
        "            break\n",
        "    else:\n",
        "        st.warning(\"No se encontró el pendiente con ese nombre\")\n",
        "\n",
        "pendiente.set_nombre = (\"Tarea MEGA IMPORTANTE\")\n",
        "pendiente.set_fecha =(\"12:30\")\n",
        "pendiente.set_importante =(\"Si\")\n",
        "\n",
        "def mostrar_pendientes():\n",
        "    st.subheader(\"Pendientes\")\n",
        "    for pendiente in pendientes:\n",
        "        st.write(f\"- {pendiente.nombre} ({pendiente.fecha})\")\n",
        "    if not pendientes:\n",
        "        st.info(\"No hay pendientes\")\n",
        "\n"
      ]
    },
    {
      "cell_type": "code",
      "execution_count": null,
      "metadata": {
        "colab": {
          "base_uri": "https://localhost:8080/"
        },
        "id": "bGWgEquE5vbf",
        "outputId": "c6ecba46-7f75-4970-92a6-54a22cae1825"
      },
      "outputs": [
        {
          "name": "stdout",
          "output_type": "stream",
          "text": [
            "\u001b[1G\u001b[0K⠙\u001b[1G\u001b[0K⠹\u001b[1G\u001b[0K⠸\u001b[1G\u001b[0K⠼\u001b[1G\u001b[0K⠴\u001b[1G\u001b[0K⠦\u001b[1G\u001b[0K⠧\u001b[1G\u001b[0K⠇\u001b[1G\u001b[0K⠏\u001b[1G\u001b[0K⠋\u001b[1G\u001b[0K⠙\u001b[1G\u001b[0K⠹\u001b[1G\u001b[0K⠸\u001b[1G\u001b[0K⠼\u001b[1G\u001b[0K⠴\u001b[1G\u001b[0K⠦\u001b[1G\u001b[0K⠧\u001b[1G\u001b[0K⠇\u001b[1G\u001b[0K⠏\u001b[1G\u001b[0K⠋\u001b[1G\u001b[0K⠙\u001b[1G\u001b[0K\n",
            "added 22 packages in 3s\n",
            "\u001b[1G\u001b[0K⠙\u001b[1G\u001b[0K\n",
            "\u001b[1G\u001b[0K⠙\u001b[1G\u001b[0K3 packages are looking for funding\n",
            "\u001b[1G\u001b[0K⠙\u001b[1G\u001b[0K  run `npm fund` for details\n",
            "\u001b[1G\u001b[0K⠙\u001b[1G\u001b[0K"
          ]
        }
      ],
      "source": [
        "!npm install localtunnel"
      ]
    },
    {
      "cell_type": "code",
      "execution_count": null,
      "metadata": {
        "id": "xt2puOcG5yoI"
      },
      "outputs": [],
      "source": [
        "!streamlit run /content/app.py &>/content/logs.txt &"
      ]
    },
    {
      "cell_type": "code",
      "execution_count": null,
      "metadata": {
        "colab": {
          "background_save": true,
          "base_uri": "https://localhost:8080/"
        },
        "id": "eHYqL9B750wI",
        "outputId": "5fa41e5a-eea2-43de-df49-2fb9a1417290"
      },
      "outputs": [
        {
          "name": "stdout",
          "output_type": "stream",
          "text": [
            "\u001b[1G\u001b[0K⠙\u001b[1G\u001b[0Kyour url is: https://sharp-parks-enter.loca.lt\n"
          ]
        }
      ],
      "source": [
        "!npx localtunnel --port 8501"
      ]
    }
  ],
  "metadata": {
    "colab": {
      "provenance": [],
      "authorship_tag": "ABX9TyOWxgiwAAqWSwpav0Sntd1D",
      "include_colab_link": true
    },
    "kernelspec": {
      "display_name": "Python 3",
      "name": "python3"
    },
    "language_info": {
      "name": "python"
    }
  },
  "nbformat": 4,
  "nbformat_minor": 0
}